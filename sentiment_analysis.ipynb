{
 "cells": [
  {
   "cell_type": "code",
   "execution_count": 1,
   "metadata": {},
   "outputs": [],
   "source": [
    "import pandas as pd\n",
    "import numpy as np\n",
    "from scipy.special import softmax"
   ]
  },
  {
   "cell_type": "code",
   "execution_count": 3,
   "metadata": {},
   "outputs": [],
   "source": [
    "train = pd.read_csv('data_vova/hugface_sentiment_sent_sim_embs_train.csv')\n",
    "test = pd.read_csv('data_vova/hugface_sentiment_sent_sim_embs_test.csv')\n",
    "\n",
    "public_class_balence = [0.  , 0.1 , 0.45, 0.4 , 0.05]"
   ]
  },
  {
   "cell_type": "markdown",
   "metadata": {},
   "source": [
    "# wery clouse to train samples"
   ]
  },
  {
   "cell_type": "code",
   "execution_count": 50,
   "metadata": {},
   "outputs": [
    {
     "data": {
      "text/plain": [
       "{0: 2, 1: 3, 2: 4, 18: 5, 24: 1}"
      ]
     },
     "execution_count": 50,
     "metadata": {},
     "output_type": "execute_result"
    }
   ],
   "source": [
    "close_to_train = test[['emb_sim_1','emb_sim_2', 'emb_sim_3', 'emb_sim_4', 'emb_sim_5']]> 0.8\n",
    "close_to_train = close_to_train[close_to_train.any(axis=1)].idxmax(axis=1)\n",
    "close_to_train = close_to_train.apply(lambda x: int(x[-1])).to_dict()\n",
    "close_to_train"
   ]
  },
  {
   "cell_type": "markdown",
   "metadata": {},
   "source": [
    "# Prediction based on similaryty"
   ]
  },
  {
   "cell_type": "code",
   "execution_count": 51,
   "metadata": {},
   "outputs": [
    {
     "data": {
      "image/png": "[encoded data removed]",
      "text/plain": [
       "<Figure size 432x288 with 1 Axes>"
      ]
     },
     "metadata": {
      "needs_background": "light"
     },
     "output_type": "display_data"
    }
   ],
   "source": [
    "softmax_prob = test[['emb_sim_1','emb_sim_2', 'emb_sim_3', 'emb_sim_4', 'emb_sim_5']].apply(softmax, axis=1)\n",
    "text_similarity_prediction = (softmax_prob*np.array([1,2,3,4,5])).sum(axis=1)\n",
    "text_similarity_prediction.hist(bins=20);"
   ]
  },
  {
   "cell_type": "markdown",
   "metadata": {},
   "source": [
    "# Prediction based on sentiment analysis"
   ]
  },
  {
   "cell_type": "code",
   "execution_count": 52,
   "metadata": {},
   "outputs": [],
   "source": [
    "from scipy.stats import rankdata\n",
    "\n",
    "public_class_n_sample = [(int(sum(public_class_balence[:i]*100)), int(sum(public_class_balence[:i+1]*100)))  for i in range(len(public_class_balence))]\n",
    "\n",
    "def to_public_class_balance(ranks):\n",
    "    balence_pred = ranks.sort_values()\n",
    "    for i, (left, right) in enumerate(public_class_n_sample):\n",
    "        balence_pred[left:right]= i+1\n",
    "    balence_pred = balence_pred.sort_index()\n",
    "    return balence_pred"
   ]
  },
  {
   "cell_type": "code",
   "execution_count": 55,
   "metadata": {},
   "outputs": [
    {
     "data": {
      "image/png": "[encoded data removed]",
      "text/plain": [
       "<Figure size 432x288 with 1 Axes>"
      ]
     },
     "metadata": {
      "needs_background": "light"
     },
     "output_type": "display_data"
    }
   ],
   "source": [
    "berts = ['trans_baselinepos_prob', 'rohanrajpal_bert_base_multilingual_codemixed-cased_sentimentpos_prob', 'siebert_sentiment_roberta_large_englishpos_prob']\n",
    "berts_weights = np.array([2, 1, 1]) \n",
    "bert_data = test[berts].apply(rankdata)\n",
    "bert_data = bert_data*berts_weights\n",
    "bert_data = bert_data.apply(to_public_class_balance)\n",
    "sentiment_pred = bert_data.mean(axis=1)\n",
    "sentiment_pred.hist(bins=100);"
   ]
  },
  {
   "cell_type": "markdown",
   "metadata": {},
   "source": [
    "#  Blend"
   ]
  },
  {
   "cell_type": "code",
   "execution_count": 57,
   "metadata": {},
   "outputs": [
    {
     "data": {
      "image/png": "[encoded data removed]",
      "text/plain": [
       "<Figure size 432x288 with 1 Axes>"
      ]
     },
     "metadata": {
      "needs_background": "light"
     },
     "output_type": "display_data"
    }
   ],
   "source": [
    "pred = sentiment_pred*0.5 + text_similarity_prediction*0.5\n",
    "pred[close_to_train.keys()] = list(close_to_train.values())\n",
    "pred.hist(bins=100);"
   ]
  },
  {
   "cell_type": "code",
   "execution_count": 61,
   "metadata": {},
   "outputs": [
    {
     "data": {
      "text/html": [
       "<div>\n",
       "<style scoped>\n",
       "    .dataframe tbody tr th:only-of-type {\n",
       "        vertical-align: middle;\n",
       "    }\n",
       "\n",
       "    .dataframe tbody tr th {\n",
       "        vertical-align: top;\n",
       "    }\n",
       "\n",
       "    .dataframe thead th {\n",
       "        text-align: right;\n",
       "    }\n",
       "</style>\n",
       "<table border=\"1\" class=\"dataframe\">\n",
       "  <thead>\n",
       "    <tr style=\"text-align: right;\">\n",
       "      <th></th>\n",
       "      <th>id</th>\n",
       "      <th>sentiment</th>\n",
       "    </tr>\n",
       "  </thead>\n",
       "  <tbody>\n",
       "    <tr>\n",
       "      <th>0</th>\n",
       "      <td>0</td>\n",
       "      <td>2.000000</td>\n",
       "    </tr>\n",
       "    <tr>\n",
       "      <th>1</th>\n",
       "      <td>1</td>\n",
       "      <td>3.000000</td>\n",
       "    </tr>\n",
       "    <tr>\n",
       "      <th>2</th>\n",
       "      <td>2</td>\n",
       "      <td>4.000000</td>\n",
       "    </tr>\n",
       "    <tr>\n",
       "      <th>3</th>\n",
       "      <td>3</td>\n",
       "      <td>3.189163</td>\n",
       "    </tr>\n",
       "    <tr>\n",
       "      <th>4</th>\n",
       "      <td>4</td>\n",
       "      <td>3.184166</td>\n",
       "    </tr>\n",
       "    <tr>\n",
       "      <th>...</th>\n",
       "      <td>...</td>\n",
       "      <td>...</td>\n",
       "    </tr>\n",
       "    <tr>\n",
       "      <th>95</th>\n",
       "      <td>95</td>\n",
       "      <td>3.368291</td>\n",
       "    </tr>\n",
       "    <tr>\n",
       "      <th>96</th>\n",
       "      <td>96</td>\n",
       "      <td>3.313244</td>\n",
       "    </tr>\n",
       "    <tr>\n",
       "      <th>97</th>\n",
       "      <td>97</td>\n",
       "      <td>3.321575</td>\n",
       "    </tr>\n",
       "    <tr>\n",
       "      <th>98</th>\n",
       "      <td>98</td>\n",
       "      <td>2.992070</td>\n",
       "    </tr>\n",
       "    <tr>\n",
       "      <th>99</th>\n",
       "      <td>99</td>\n",
       "      <td>2.950336</td>\n",
       "    </tr>\n",
       "  </tbody>\n",
       "</table>\n",
       "<p>100 rows × 2 columns</p>\n",
       "</div>"
      ],
      "text/plain": [
       "    id  sentiment\n",
       "0    0   2.000000\n",
       "1    1   3.000000\n",
       "2    2   4.000000\n",
       "3    3   3.189163\n",
       "4    4   3.184166\n",
       "..  ..        ...\n",
       "95  95   3.368291\n",
       "96  96   3.313244\n",
       "97  97   3.321575\n",
       "98  98   2.992070\n",
       "99  99   2.950336\n",
       "\n",
       "[100 rows x 2 columns]"
      ]
     },
     "execution_count": 61,
     "metadata": {},
     "output_type": "execute_result"
    }
   ],
   "source": [
    "sample_submission = pd.read_csv('sample_submission.csv')\n",
    "sample_submission['sentiment'] = pred\n",
    "sample_submission.to_csv('sub_final_blend.csv', index=False)#sub_rank_class_balence_34_base_rohanrajpal_siebert\n",
    "sample_submission"
   ]
  }
 ],
 "metadata": {
  "kernelspec": {
   "display_name": "Python 3",
   "language": "python",
   "name": "python3"
  },
  "language_info": {
   "codemirror_mode": {
    "name": "ipython",
    "version": 3
   },
   "file_extension": ".py",
   "mimetype": "text/x-python",
   "name": "python",
   "nbconvert_exporter": "python",
   "pygments_lexer": "ipython3",
   "version": "3.8.10"
  }
 },
 "nbformat": 4,
 "nbformat_minor": 4
}
